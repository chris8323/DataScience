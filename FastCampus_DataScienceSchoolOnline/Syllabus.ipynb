{
 "cells": [
  {
   "cell_type": "markdown",
   "metadata": {},
   "source": [
    "# 패스트캠퍼스 데이터 사이언스 SCHOOL ONLINE"
   ]
  },
  {
   "cell_type": "markdown",
   "metadata": {},
   "source": [
    "\n",
    "### Basic Info\n",
    "- https://www.fastcampus.co.kr/online/#/courses/201846/clips/15282\n",
    "- 수강기간: 2020.01.03 ~ 2021.01.03\n",
    "- 영상시청관련 문의사항\n",
    "    - 02-518-4824\n",
    "    - help-school@fastcampus.co.kr"
   ]
  },
  {
   "cell_type": "markdown",
   "metadata": {},
   "source": [
    "### Curriculum\n",
    "\n",
    "#### A. Programming\n",
    "1. Python & DB\n",
    "2. Crawaling\n",
    "\n",
    "#### B. Mathematics&Statistics\n",
    "3. 수학\n",
    "4. 확률 / 통계 / 회귀분석\n",
    "\n",
    "#### C. Machine Learning\n",
    "5. 데이터 전처리\n",
    "6. "
   ]
  }
 ],
 "metadata": {
  "kernelspec": {
   "display_name": "Python 3",
   "language": "python",
   "name": "python3"
  },
  "language_info": {
   "codemirror_mode": {
    "name": "ipython",
    "version": 3
   },
   "file_extension": ".py",
   "mimetype": "text/x-python",
   "name": "python",
   "nbconvert_exporter": "python",
   "pygments_lexer": "ipython3",
   "version": "3.6.0"
  }
 },
 "nbformat": 4,
 "nbformat_minor": 2
}
