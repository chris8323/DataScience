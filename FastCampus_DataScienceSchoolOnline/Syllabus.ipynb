{
 "cells": [
  {
   "cell_type": "markdown",
   "metadata": {},
   "source": [
    "# 패스트캠퍼스 데이터 사이언스 SCHOOL ONLINE"
   ]
  },
  {
   "cell_type": "markdown",
   "metadata": {},
   "source": [
    "### Basic Info\n",
    "\n",
    "- https://www.fastcampus.co.kr/online/#/courses/201846/clips/15282\n",
    "\n",
    "- 수강기간: 2020.01.03 ~ 2021.01.03\n",
    "\n",
    "- 영상시청관련 문의사항\n",
    "    - 02-518-4824\n",
    "    - help-school@fastcampus.co.kr"
   ]
  },
  {
   "cell_type": "markdown",
   "metadata": {},
   "source": [
    "### Curriculum\n",
    "|Depth01|Depth02|Depth03|Description|\n",
    "|---|---|---|---|\n",
    "|**A. Programming (75)**|**1. Python&DB (44)**|python basic (4)|\n",
    "| | |condition, loop, funcition, class...(12)|\n",
    "| | |module, package (4)|\n",
    "| | |numpy, pandas (8)|\n",
    "| | |AWS, MySQL (12)|\n",
    "| | |SQLAlchemy, mongoDB, pymongo (4)|\n",
    "| |**2. Crawling (31)**|크롤링1 (8)|\n",
    "| | |크롤링2 (8)|\n",
    "| | |크롤링3 (7)|\n",
    "| | |크롤링4 (8)|\n",
    "|**B. Mathematics&Statistics (73)**|**3. Mathematics (27)**|선형대수01 (12)|선형대수의 기본과 기하학과의 연관관계|\n",
    "| | |선형대수02 (7)|고유분해, 특이분해|\n",
    "| |**4. 확률/통계/회귀분석 (46)**|확률과 통계1 (8)|\n",
    "| | |확률과 통계2 (12)| |\n",
    "| | |확률과 통계3 (11)\n",
    "| | |회귀분석1 (2)\n",
    "| | |회귀분석2 (8)\n",
    "| | |회귀분석3 (5)\n",
    "|**C. Machine Learning (46)**|**5. 머신러닝_전처리 (16)**|텍스트 데이터 전처리 (7)|\n",
    "| | |이미지 데이터 전처리 (5)\n",
    "| | |사운드/지리정보 데이터 전처리 (4)\n",
    "| |**6. 머신러닝_지도학습 (28)**|분류모형입문 (4)\n",
    "| | |로지스틱회귀 (4)\n",
    "| | |나이브베이즈 (6)\n",
    "| | |의사결정나무 (2)\n",
    "| | |모형결합 (4)\n",
    "| | |퍼셉트론과 서포트벡터머신 (4) \n",
    "| | |기저합수 모형 (1)\n",
    "| | |모형 최적화와 분류 실무 (2)\n",
    "| | |추천시스템 (1)\n",
    "| |**7. 머신러닝_비지도학습 (10)**|군집화(4)\n",
    "| | |확률적 그래프 모형(4)\n",
    "| | |혼합모형과 변분법적 추론 (1)\n",
    "| | |몬테카를로 마코프 체인 (1)\n",
    "| |**8. 딥러닝 기초 (2)**"
   ]
  }
 ],
 "metadata": {
  "kernelspec": {
   "display_name": "Python 3",
   "language": "python",
   "name": "python3"
  },
  "language_info": {
   "codemirror_mode": {
    "name": "ipython",
    "version": 3
   },
   "file_extension": ".py",
   "mimetype": "text/x-python",
   "name": "python",
   "nbconvert_exporter": "python",
   "pygments_lexer": "ipython3",
   "version": "3.7.4"
  }
 },
 "nbformat": 4,
 "nbformat_minor": 2
}
