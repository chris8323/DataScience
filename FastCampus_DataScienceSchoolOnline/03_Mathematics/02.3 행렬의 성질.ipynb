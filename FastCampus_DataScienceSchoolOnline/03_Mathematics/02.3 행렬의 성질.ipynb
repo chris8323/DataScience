{
 "cells": [
  {
   "cell_type": "markdown",
   "metadata": {},
   "source": [
    "# 02.3 행렬의 성질\n",
    "- https://datascienceschool.net/view-notebook/d6205659aff0413797c22552947aec83/"
   ]
  },
  {
   "cell_type": "markdown",
   "metadata": {},
   "source": [
    "- 일반적인 Algebra에서는 수의 개념을 배우고 기본적인 수의 연산(사칙연산)을 익힌 다음, 수의 부호/절대값/크기 등의 개념을 공부한다."
   ]
  },
  {
   "cell_type": "markdown",
   "metadata": {},
   "source": [
    "- 선형대수(Linear Algebra)에서는 이와 같이 선형대수의 기본개념(scala, vector, matrix, tensor)와 선형대수의 기초연산(행렬의 합, 차, 곱 등)을 익힌 후 \"행렬의 크기 비교\"를 공부하기로 한다."
   ]
  },
  {
   "cell_type": "markdown",
   "metadata": {},
   "source": [
    "- 단, 벡터와 행렬에서의 부호, 절대값, 크기에 대한 직접정의는 어렵다. 이와 유사한 개념을 공부한다.\n",
    "    - **행렬의 부호 개념**\n",
    "        - 정부호/준정부호\n",
    "       \n",
    "    - **행렬에서의 크기비교 개념**\n",
    "        - 놈/norm(벡터, 행렬둘다 가능 가능)\n",
    "        - 대각합/trace(오직 정방행렬에서만 가능)\n",
    "        - 행렬식/determinant(오직 정방행렬에서만 가능)"
   ]
  },
  {
   "cell_type": "code",
   "execution_count": 1,
   "metadata": {},
   "outputs": [],
   "source": [
    "import numpy as np"
   ]
  },
  {
   "cell_type": "markdown",
   "metadata": {},
   "source": [
    "----"
   ]
  },
  {
   "cell_type": "markdown",
   "metadata": {},
   "source": [
    "### 행렬의 부호개념: 정부호/준정부호\n",
    "- Matrix를 Scala 값으로 변환한 뒤 부호를 비교\n",
    "    - Matrix를 Scala 값으로 변환하는 방법 = **Quatdratic Form ($x^TAx$)** `벡터의 이차형식 (행벡터 * 정방행렬 * 열벡터)`"
   ]
  },
  {
   "cell_type": "markdown",
   "metadata": {},
   "source": [
    "- zero-vector가 아닌 모든 벡터 x에 대해 다음이 성립할 때, \n",
    "    - $x^TAx > 0$ : 행렬 A는 positive definite (양의 정부호)\n",
    "    - $x^TAx \\geq 0$ : 행렬 A는 positive semi-difinite (양의 준정부호)\n",
    "\n",
    "    "
   ]
  },
  {
   "cell_type": "markdown",
   "metadata": {},
   "source": [
    "- 대표적인 positive definite는 항등행렬 $I$\n",
    "    - $x^TIx$ 는 x벡터 원소들의 제곱식의 합으로 결과가 나오기 때문에 항상 $\\geq0$ 의 결과를 가지기 때문"
   ]
  },
  {
   "cell_type": "markdown",
   "metadata": {},
   "source": [
    "- 양의 정부호 예시"
   ]
  },
  {
   "cell_type": "markdown",
   "metadata": {},
   "source": [
    "\\begin{align}\n",
    "\\begin{aligned} \n",
    "x^TA x \n",
    "&= \n",
    "\\begin{bmatrix} x_1 & x_2 & x_3 \\end{bmatrix} \n",
    "\\begin{bmatrix} 2&-1&0\\\\-1&2&-1\\\\0&-1&2 \\end{bmatrix}  \n",
    "\\begin{bmatrix} x_1\\\\x_2\\\\x_3 \\end{bmatrix} \\\\\n",
    "&= \n",
    "\\begin{bmatrix} (2x_1-x_2)&(-x_1+2x_2-x_3)&(-x_2+2x_3) \\end{bmatrix} \n",
    "\\begin{bmatrix} x_1\\\\x_2\\\\x_3 \\end{bmatrix} \\\\\n",
    "&= 2{x_1}^2 - 2x_1x_2 + 2{x_2}^2 - 2x_2x_3 + 2{x_3}^2 \\\\\n",
    "&= {x_1}^2+(x_1 - x_2)^{2} + (x_2 - x_3)^{2}+{x_3}^2 \n",
    "\\end{aligned}\n",
    "\\tag{2.3.5}\n",
    "\\end{align}"
   ]
  },
  {
   "cell_type": "markdown",
   "metadata": {},
   "source": [
    "벡터 x는 zero-vector가 아니기 때문에*(x1, x2, x3가 동시에 0일 수 없음)* 위 식은 0과 같을 수 없다."
   ]
  },
  {
   "cell_type": "markdown",
   "metadata": {},
   "source": [
    "\\begin{align}\n",
    "{x_1}^2+(x_1 - x_2)^{2} + (x_2 - x_3)^{2}+{x_3}^2  > 0  \n",
    "\\tag{2.3.6}\n",
    "\\end{align}"
   ]
  },
  {
   "cell_type": "markdown",
   "metadata": {},
   "source": [
    "때문에 행렬 A는 양의 정부호가 된다."
   ]
  },
  {
   "cell_type": "markdown",
   "metadata": {},
   "source": [
    "---"
   ]
  },
  {
   "cell_type": "markdown",
   "metadata": {},
   "source": [
    "### 행렬의 크기 개념 01: 놈(Norm)"
   ]
  },
  {
   "cell_type": "markdown",
   "metadata": {},
   "source": [
    "- 행렬 A의 Norm은 다음과 같이 표기한다. $\\Vert A \\Vert_p $"
   ]
  },
  {
   "cell_type": "markdown",
   "metadata": {},
   "source": [
    "- Norm은 여러가지로 정의될 수 있다. 여기서는 \"요소별 행렬 놈(entrywise matrix norm)\"의 정의를 따른다.\n",
    "    - $\\sum_{i=1}^N \\sum_{j=1}^M$은 nested loop로, 행렬안에서 가능한 모든 원소, 데이터, 경우의 수에 대해 연산하는 것을 의미한다.\n",
    "    - Norm의 결과는 항상 0보다 크다.\n"
   ]
  },
  {
   "cell_type": "markdown",
   "metadata": {},
   "source": [
    "\\begin{align}\n",
    "\\Vert A \\Vert_p = \\left( \\sum_{i=1}^N \\sum_{j=1}^M |a_{ij}|^p \\right)^{1/p}  \n",
    "\\tag{2.3.8}\n",
    "\\end{align}"
   ]
  },
  {
   "cell_type": "markdown",
   "metadata": {},
   "source": [
    "- 여기서 p가 2인 케이스를 Frobenious Norm이라고 부르며 가장 많이 쓰인다.\n",
    "\\begin{align}\n",
    "\\Vert A \\Vert = \\Vert A \\Vert_2 = \\Vert A \\Vert_F = \\sqrt{\\sum_{i=1}^N \\sum_{j=1}^M a_{ij}^2}  \n",
    "\\tag{2.3.9}\n",
    "\\end{align}"
   ]
  },
  {
   "cell_type": "markdown",
   "metadata": {},
   "source": [
    "- Norm은 행렬의 크기와 상관없이 구할 수 있으며, 즉 벡터에도 적용할 수 있다.\n",
    "\n",
    "- \"벡터\"의 Norm에 대한 중요한 특징은 \"벡터의 놈의 제곱\"이 \"벡터의 제곱합\"과 같다는 것이다.\n",
    "\\begin{align}\n",
    "\\Vert x \\Vert^2 = \\sum_{i=1}^N x_{i}^2 = x^Tx  \n",
    "\\tag{2.3.10}\n",
    "\\end{align}"
   ]
  },
  {
   "cell_type": "markdown",
   "metadata": {},
   "source": [
    "- $\\Vert x \\Vert \\geq 0$ 이므로, $min( \\Vert x \\Vert ) == min( \\Vert x \\Vert^2 )$ 이다.\n",
    "- 즉, Norm을 최소화 하는 것은 벡터의 제곱합을 최소화 하는 것과 같다. $min( \\Vert x \\Vert^2 ) == min(x^Tx)$"
   ]
  },
  {
   "cell_type": "markdown",
   "metadata": {},
   "source": [
    "##### python example"
   ]
  },
  {
   "cell_type": "code",
   "execution_count": 18,
   "metadata": {},
   "outputs": [
    {
     "data": {
      "text/plain": [
       "array([[-4, -3, -2],\n",
       "       [-1,  0,  1],\n",
       "       [ 2,  3,  4]])"
      ]
     },
     "execution_count": 18,
     "metadata": {},
     "output_type": "execute_result"
    }
   ],
   "source": [
    "A = (np.arange(9)-4).reshape(3,3)\n",
    "A"
   ]
  },
  {
   "cell_type": "code",
   "execution_count": 19,
   "metadata": {},
   "outputs": [
    {
     "name": "stdout",
     "output_type": "stream",
     "text": [
      "A의 놈: 7.745966692414834\n",
      "A의 놈의 제곱: 60.00000000000001\n"
     ]
    }
   ],
   "source": [
    "normA = np.linalg.norm(A)\n",
    "print('A의 놈:',normA)\n",
    "print('A의 놈의 제곱:',normA*normA)"
   ]
  },
  {
   "cell_type": "markdown",
   "metadata": {},
   "source": [
    "#### 수학적으로 정확한 놈의 정의는 다음의 4가지 성질이 성립하는 \"행렬 연산\"을 의미한다.\n",
    "- 그렇기 때문에 여러개의 연산이 존재하며, 정의도 여러가지이다.\n",
    "- 여기에서는 앞서 설명한 정의를 따른다."
   ]
  },
  {
   "cell_type": "markdown",
   "metadata": {},
   "source": [
    "1. 놈의 값은 0이상이다. 영행렬일 때만 놈의 값이 0이 된다.\n",
    "\\begin{align}\n",
    "\\|A\\|\\ge 0\n",
    "\\tag{2.3.12}\n",
    "\\end{align}"
   ]
  },
  {
   "cell_type": "markdown",
   "metadata": {},
   "source": [
    "2. 행렬에 스칼라를 곱하면 놈의 값도 그 스칼라의 절대값을 곱한 것과 같다.\n",
    "\\begin{align}\n",
    "\\|\\alpha A\\|=|\\alpha| \\|A\\|\n",
    "\\tag{2.3.13}\n",
    "\\end{align}"
   ]
  },
  {
   "cell_type": "markdown",
   "metadata": {},
   "source": [
    "3. 행렬의 합의 놈은 각 행렬의 놈의 합보다 작거나 같다.\n",
    "\\begin{align}\n",
    "\\|A+B\\| \\le \\|A\\|+\\|B\\|\n",
    "\\tag{2.3.14}\n",
    "\\end{align}"
   ]
  },
  {
   "cell_type": "markdown",
   "metadata": {},
   "source": [
    "4. 정방행렬의 곱의 놈은 각 정방행렬의 놈의 곱보다 작거나 같다.\n",
    "\\begin{align}\n",
    "\\|AB\\| \\le \\|A\\|\\|B\\|\n",
    "\\tag{2.3.15}\n",
    "\\end{align}"
   ]
  },
  {
   "cell_type": "markdown",
   "metadata": {},
   "source": [
    "----"
   ]
  },
  {
   "cell_type": "markdown",
   "metadata": {},
   "source": [
    "### 행렬의 크기 개념 02: 대각합(Trace)"
   ]
  },
  {
   "cell_type": "markdown",
   "metadata": {},
   "source": [
    "- 대각합은 정방행렬(Sqare Matrix)에서만 정의된다."
   ]
  },
  {
   "cell_type": "markdown",
   "metadata": {},
   "source": [
    "- 대각합의 정의\n",
    "    \\begin{align}\n",
    "    \\text{tr}(A) = a_{11} + a_{22} + \\dots + a_{NN}=\\sum_{i=1}^{N} a_{ii}\n",
    "    \\tag{2.3.16}\n",
    "    \\end{align}\n",
    "\n",
    "- N 차원 항등행렬(identity matrix)의 대각합은 N 이다. \n",
    "    - $a_{11}, a_{22}, ... , a_{NN} = 1$\n",
    "    \n",
    "- 대각합의 공식에서 절대값이나 제곱연산을 하지 않기 때문에 Norm과 달리 결과가 음수가 될 수도 있다."
   ]
  },
  {
   "cell_type": "markdown",
   "metadata": {},
   "source": [
    "#### Trace가 가진 성질\n",
    "($c$는 scala, $A, B, C$는 matrix)\n",
    "1. 스칼라를 곱하면 대각합은 스칼라와 원래의 대각합의 곱이다.\n",
    "\\begin{align}\n",
    "\\text{tr} (cA) = c\\;\\text{tr} (A)  \n",
    "\\tag{2.3.18}\n",
    "\\end{align}\n",
    "\n",
    "2. 전치연산을 해도 대각합은 달라지지 않는다.\n",
    "\\begin{align}\n",
    "\\text{tr} (A^T) = \\text{tr} (A)  \n",
    "\\tag{2.3.19}\n",
    "\\end{align}\n",
    "\n",
    "3. 두 행렬의 합의 대각합은 두 행렬의 대각합의 합과 같다\n",
    "\\begin{align}\n",
    "\\text{tr} (A + B) = \\text{tr} (A) + \\text{tr} (B)  \n",
    "\\tag{2.3.20}\n",
    "\\end{align}"
   ]
  },
  {
   "cell_type": "markdown",
   "metadata": {},
   "source": [
    "4. 두 행렬의 곱의 대각합은 행렬의 순서를 바꾸어도 동일하다.\n",
    "    - 행렬의 순서를 바꾸면 곱의 결과는 같지만 대각합은 동일하다.\n",
    "\\begin{align}\n",
    "\\text{tr} (AB) = \\text{tr} (BA)  \n",
    "\\tag{2.3.21}\n",
    "\\end{align}"
   ]
  },
  {
   "cell_type": "markdown",
   "metadata": {},
   "source": [
    "5. 세 행렬의 곱의 대각합은 다음과 같이 순서를 순환시켜도 달라지지 않는다.\n",
    "    - 4번 성질을 통해 이 성질을 증명할 수 있다.\n",
    "\\begin{align}\n",
    "\\text{tr} (ABC) = \\text{tr} (BCA) = \\text{tr} (CAB)  \n",
    "\\tag{2.3.22}\n",
    "\\end{align}\n",
    "\n",
    "\\begin{align}\n",
    "\\text{tr} ((AB)C) = \\text{tr} (C(AB)) = \\text{tr} ((CA)B) = \\text{tr} (B(CA)) \n",
    "\\tag{2.3.23}\n",
    "\\end{align}"
   ]
  },
  {
   "cell_type": "markdown",
   "metadata": {},
   "source": [
    "    - 5번 성질은 트레이스 트릭(Trace Trick)이라고 하여 **이차형식(Quadratic Form)의 미분값**을 구하는데 유용하게 쓰인다.\n",
    "        - 대각합은 정방행렬에서만 쓰일 수 있는데, Qudratic Form에 쓰일 수 있을까?\n",
    "        - trace trick을 쓰는 대상이 모두 정방행렬일 필요는 없고, trace를 적용할 최종 행렬만 정방행렬이기만 하면된다.\n",
    "        - Qudratic Form의 결과는 scala값으로, 이는 정방행렬의 일종($R^{1*1}$)이므로 trace trick의 대상이 될 수 있다. \n",
    "\n",
    "\\begin{align}\n",
    "x^TAx = \\text{tr}(x^TAx) = \\text{tr}(Axx^T)  = \\text{tr}(xx^TA)  \n",
    "\\tag{2.3.24}\n",
    "\\end{align}"
   ]
  },
  {
   "cell_type": "markdown",
   "metadata": {},
   "source": [
    "##### python example"
   ]
  },
  {
   "cell_type": "code",
   "execution_count": 20,
   "metadata": {},
   "outputs": [
    {
     "data": {
      "text/plain": [
       "array([[1., 0., 0.],\n",
       "       [0., 1., 0.],\n",
       "       [0., 0., 1.]])"
      ]
     },
     "execution_count": 20,
     "metadata": {},
     "output_type": "execute_result"
    }
   ],
   "source": [
    "np.eye(3)"
   ]
  },
  {
   "cell_type": "code",
   "execution_count": 23,
   "metadata": {},
   "outputs": [
    {
     "data": {
      "text/plain": [
       "3.0"
      ]
     },
     "execution_count": 23,
     "metadata": {},
     "output_type": "execute_result"
    }
   ],
   "source": [
    "np.trace(np.eye(3))"
   ]
  },
  {
   "cell_type": "markdown",
   "metadata": {},
   "source": [
    "----"
   ]
  },
  {
   "cell_type": "markdown",
   "metadata": {},
   "source": [
    "### 행렬의 크기 개념 03: 행렬식(Determinant)"
   ]
  },
  {
   "cell_type": "markdown",
   "metadata": {},
   "source": [
    "- determinant도 정방행렬(square matrix)에 대해서만 구할 수 있다\n",
    "- 정방행렬 A의 행렬식은 $\\text{det}(A), \\text{det}A, |A|$로 표현된다.\n",
    "    - $|A|$: 실수에서는 절대값, 행렬에서는 행렬식을 의미한다."
   ]
  },
  {
   "cell_type": "markdown",
   "metadata": {},
   "source": [
    "#### 행렬식은 재귀적(recursive)으로 정의된다"
   ]
  },
  {
   "cell_type": "markdown",
   "metadata": {},
   "source": [
    "1. 행렬이 Scala값(1x1인 행렬)인 경우,\n",
    "\n",
    "\\begin{align}\n",
    "\\det \\left( \\begin{bmatrix}a\\end{bmatrix} \\right) = a  \n",
    "\\tag{2.3.28}\n",
    "\\end{align}"
   ]
  },
  {
   "cell_type": "markdown",
   "metadata": {},
   "source": [
    "2. 행렬이 scala값이 아니면, 여인수 전개(Cofactor Expansion)을 통해 행렬식을 구한다.\n"
   ]
  },
  {
   "cell_type": "markdown",
   "metadata": {},
   "source": [
    "\\begin{align}\n",
    "\\det(A) = \\sum_{i=1}^N \\left\\{ (-1)^{i+j_0}M_{i,j_0} \\right\\} a_{i,j_0}  \n",
    "\\tag{2.3.29}\n",
    "\\end{align}"
   ]
  },
  {
   "cell_type": "markdown",
   "metadata": {},
   "source": [
    "\\begin{align}\n",
    "\\det(A) = \\sum_{j=1}^N \\left\\{ (-1)^{i_0+j} M_{i_0,j} \\right\\} a_{i_0,j} \n",
    "\\tag{2.3.30}\n",
    "\\end{align}"
   ]
  },
  {
   "cell_type": "markdown",
   "metadata": {},
   "source": [
    "- 위의 식 중 어느 것을 선택해도 결과는 같다.\n",
    "- $i_0, j_0$는 계산자가 임의로 선택한 행번호 혹은 열번호 이다. 행번호 혹은 열번호를 아무거나 선택해도 결과는 같다.\n",
    "- 임의의 행번호 혹은 열번호를 선택하고 각각에 가중치( $(-1)^{i+j_0}M_{i,j_0}$ or  $(-1)^{i_0+j}M_{i_0,}$)를 곱하여 더한 결과이다.\n",
    "\n",
    "    - $(-1)^{i+j_0}M_{i,j_0} or (-1)^{i_0+j}M_{i_0,}$ 를 여인수(Cofactor)라고 하며 $C_{i,j}$로 표기하기도 한다.\n",
    "    - 따라서 행렬식의 정의를 다음과 같이 표기할 수도 있다.\n",
    "        \\begin{align}\n",
    "        \\det(A) = \\sum_{i=1}^N C_{i,j_0} a_{i,j_0}  =  \\sum_{j=1}^N C_{i_0,j} a_{i_0,j}  \n",
    "        \\tag{2.3.32}\n",
    "        \\end{align}\n",
    "- 가중치로 사용한 $M_{i,j}$는 마이너(Minor/소행렬식)라고 하며, 정방행렬 A에서 i행과 j열을 지우고 난 나머지 행렬의 행렬식을 의미한다.\n",
    "    - 즉 원래의 행렬식을 구하기 위해서는 행과 열을 하나씩 지우고 얻은 소행렬의 행렬식 값, 즉 마이너 값이 필요하게 되고, 그 마이너를 구하기 위해서는 더 작은 소행렬의 행렬식, 더 작은 마이너가 필요하다.\n",
    "    - 이렇게 행과 열을 계속 지워나가다 보면 1x1 행렬, 즉 scala에 도달하게 되고, 이 행렬의 행렬식은 자기 자신이다. (정의1)\n",
    "    - 이렇게 얻은 스칼라의 행렬식 값을 토대로 다시 하나씩 큰 행렬의 행렬식을 구할 수 있고 최종적으로 본래 행렬의 행렬식을 구할 수 있다."
   ]
  },
  {
   "cell_type": "markdown",
   "metadata": {},
   "source": [
    "##### Example: Cofactor Expansion"
   ]
  },
  {
   "cell_type": "markdown",
   "metadata": {},
   "source": [
    "\\begin{align}\n",
    "\\begin{bmatrix}\n",
    "1&2&3\\\\\n",
    "4&5&6\\\\\n",
    "7&8&9\\\\\n",
    "\\end{bmatrix}\n",
    "\\tag{2.3.33}\n",
    "\\end{align}"
   ]
  },
  {
   "cell_type": "markdown",
   "metadata": {},
   "source": [
    "$j_0 = 1 $이라 가정 \n",
    "\\begin{align}\n",
    "\\begin{aligned}\n",
    "\\det(A) \n",
    "&= \\left\\{ (-1)^{1+1}M_{1,1} \\right\\} a_{1,1} +  \\left\\{ (-1)^{2+1}M_{2,1} \\right\\} a_{2,1} +  \\left\\{ (-1)^{3+1}M_{3,1} \\right\\} a_{3,1} \\\\\n",
    "&= M_{1,1} a_{1,1} - M_{2,1} a_{2,1} + M_{3,1} a_{3,1} \\\\\n",
    "&= M_{1,1} -  M_{2,1} \\cdot 4 + M_{3,1} \\cdot 7\n",
    "\\end{aligned}\n",
    "\\tag{2.3.34}\n",
    "\\end{align}"
   ]
  },
  {
   "cell_type": "markdown",
   "metadata": {},
   "source": [
    "\\begin{align}\n",
    "\\begin{aligned}\n",
    "\\begin{bmatrix}\n",
    "\\cancel{1}&\\cancel{2}&\\cancel{3}\\\\\n",
    "\\cancel{4}&5&6\\\\\n",
    "\\cancel{7}&8&9\\\\\n",
    "\\end{bmatrix}\n",
    "\\;\\; \\rightarrow \\;\\;\n",
    "M_{1,1} = \\det \\left( \\begin{bmatrix}5&6\\\\8&9\\end{bmatrix} \\right) \n",
    "\\end{aligned}\n",
    "\\tag{2.3.35}\n",
    "\\end{align}"
   ]
  },
  {
   "cell_type": "markdown",
   "metadata": {},
   "source": [
    "\\begin{align}\n",
    "\\begin{aligned}\n",
    "\\begin{bmatrix}\n",
    "\\cancel{1}&2&3\\\\\n",
    "\\cancel{4}&\\cancel{5}&\\cancel{6}\\\\\n",
    "\\cancel{7}&8&9\\\\\n",
    "\\end{bmatrix}\n",
    "\\;\\; \\rightarrow \\;\\;\n",
    "M_{2,1} = \\det \\left( \\begin{bmatrix}2&3\\\\8&9\\end{bmatrix} \\right) \n",
    "\\end{aligned}\n",
    "\\tag{2.3.36}\n",
    "\\end{align}\n",
    "\n"
   ]
  },
  {
   "cell_type": "markdown",
   "metadata": {},
   "source": [
    "\\begin{align}\n",
    "\\begin{aligned}\n",
    "\\begin{bmatrix}\n",
    "\\cancel{1}&2&3\\\\\n",
    "\\cancel{4}&5&6\\\\\n",
    "\\cancel{7}&\\cancel{8}&\\cancel{9}\\\\\n",
    "\\end{bmatrix}\n",
    "\\;\\; \\rightarrow \\;\\;\n",
    "M_{3,1} = \\det \\left( \\begin{bmatrix}2&3\\\\5&6\\end{bmatrix} \\right) \n",
    "\\end{aligned}\n",
    "\\tag{2.3.37}\n",
    "\\end{align}"
   ]
  },
  {
   "cell_type": "markdown",
   "metadata": {},
   "source": [
    "$i_0 = 1$이라 가정\n",
    "\\begin{align}\n",
    "M_{1,1}\n",
    "= \\left\\{ (-1)^{1+1}M'_{1,1} \\right\\} a'_{1,1} +  \\left\\{ (-1)^{2+1}M'_{1,2} \\right\\} a'_{1,2}\n",
    "\\tag{2.3.38}\n",
    "\\end{align}\n"
   ]
  },
  {
   "cell_type": "markdown",
   "metadata": {},
   "source": [
    "\\begin{align}\n",
    "\\begin{aligned}\n",
    "\\begin{bmatrix}\n",
    "\\cancel{5}&\\cancel{6}\\\\\n",
    "\\cancel{8}&9\n",
    "\\end{bmatrix}\n",
    "\\;\\; \\rightarrow \\;\\;\n",
    "M'_{1,1} = \\det([9]) = 9\n",
    "\\end{aligned}\n",
    "\\tag{2.3.39}\n",
    "\\end{align}"
   ]
  },
  {
   "cell_type": "markdown",
   "metadata": {},
   "source": [
    "\\begin{align}\n",
    "\\begin{aligned}\n",
    "\\begin{bmatrix}\n",
    "\\cancel{5}&\\cancel{6}\\\\\n",
    "8&\\cancel{9}\n",
    "\\end{bmatrix}\n",
    "\\;\\; \\rightarrow \\;\\;\n",
    "M'_{1,2} = \\det([8]) = 8\n",
    "\\end{aligned}\n",
    "\\tag{2.3.40}\n",
    "\\end{align}"
   ]
  },
  {
   "cell_type": "markdown",
   "metadata": {},
   "source": [
    "\\begin{align}\n",
    "M_{1,1} = 9 \\cdot 5 - 8 \\cdot 6 = -3 \n",
    "\\tag{2.3.41}\n",
    "\\end{align}"
   ]
  },
  {
   "cell_type": "markdown",
   "metadata": {},
   "source": [
    "\\begin{align}\n",
    "M_{2,1} = -6\n",
    "\\tag{2.3.42}\n",
    "\\end{align}"
   ]
  },
  {
   "cell_type": "markdown",
   "metadata": {},
   "source": [
    "\\begin{align}\n",
    "M_{3,1} = -3 \n",
    "\\tag{2.3.43}\n",
    "\\end{align}"
   ]
  },
  {
   "cell_type": "markdown",
   "metadata": {},
   "source": [
    "\\begin{align}\n",
    "\\det(A) = -3 - (-6)\\cdot 4 + (-3) \\cdot 7 = 0\n",
    "\\tag{2.3.44}\n",
    "\\end{align}"
   ]
  },
  {
   "cell_type": "markdown",
   "metadata": {},
   "source": [
    "##### Example python"
   ]
  },
  {
   "cell_type": "code",
   "execution_count": 44,
   "metadata": {},
   "outputs": [
    {
     "data": {
      "text/plain": [
       "array([[1, 2, 3],\n",
       "       [4, 5, 6],\n",
       "       [7, 8, 9]])"
      ]
     },
     "execution_count": 44,
     "metadata": {},
     "output_type": "execute_result"
    }
   ],
   "source": [
    "A = (np.arange(9)+1).reshape(3,3)\n",
    "A"
   ]
  },
  {
   "cell_type": "code",
   "execution_count": 45,
   "metadata": {},
   "outputs": [
    {
     "data": {
      "text/plain": [
       "-9.51619735392994e-16"
      ]
     },
     "execution_count": 45,
     "metadata": {},
     "output_type": "execute_result"
    }
   ],
   "source": [
    "np.linalg.det(A)"
   ]
  },
  {
   "cell_type": "markdown",
   "metadata": {},
   "source": [
    "- 위의 정의에 따라 2x2의 행렬식은 다음과 같이 계산된다. `외울 필요 없음`\n",
    "\\begin{align}\n",
    "\\det \\left( \\begin{bmatrix}a&b\\\\c&d\\end{bmatrix} \\right) = ad-bc\n",
    "\\tag{2.3.45}\n",
    "\\end{align}"
   ]
  },
  {
   "cell_type": "markdown",
   "metadata": {},
   "source": [
    "- 위의 정의에 따라 3x3의 행렬식은 다음과 같이 계산된다. `외울 필요 없음`\n",
    "\\begin{align}\n",
    "\\det \\left( \\begin{bmatrix}a&b&c\\\\d&e&f\\\\g&h&i\\end{bmatrix} \\right) =aei+bfg+cdh-ceg-bdi-afh\n",
    "\\tag{2.3.46}\n",
    "\\end{align}"
   ]
  },
  {
   "cell_type": "markdown",
   "metadata": {},
   "source": [
    "- determinant도 trace와 같이 절대값이나 제곱 연산이 없으므로 결과가 음수가 될 수 있다. \n",
    "    - norm은 제곱연산이 포함되므로 항상 0이상의 값이다."
   ]
  },
  {
   "cell_type": "markdown",
   "metadata": {},
   "source": [
    "#### determinant의 성질"
   ]
  },
  {
   "cell_type": "markdown",
   "metadata": {},
   "source": [
    "1. 전치행렬의 행렬식은 원래의 행렬식과 같다.\n",
    "    - *cf. 전치행렬의 대각합은 원래의 대각합과 같다.*\n",
    "        \\begin{align}\n",
    "        \\det(A^{T}) = \\det(A)  \n",
    "        \\tag{2.3.47}\n",
    "        \\end{align}\n",
    "        \n",
    "        \n",
    "2. 항등행렬의 행렬식은 1이다.\n",
    "    - *cf. N차원 항등행렬의 Norm은 N이다.*\n",
    "        \\begin{align}\n",
    "        \\det(I) = 1  \n",
    "        \\tag{2.3.48}\n",
    "        \\end{align}\n",
    "        \n",
    "3. 두 행렬의 곱의 행렬식은 각 행렬의 행렬식의 곱과 같다.\n",
    "    - *cf. 두 행렬의 곱의 놈은 각 행렬의 놈의 곱보다 작거나 같다.*\n",
    "    - *cf. 두 행렬의 곱의 대각합은 행렬의 곱의 순서를 바꾸어도 동일하다.*\n",
    "        \\begin{align}\n",
    "        \\det(AB) = \\det(A)\\det(B)  \n",
    "        \\tag{2.3.49}\n",
    "        \\end{align}"
   ]
  },
  {
   "cell_type": "markdown",
   "metadata": {},
   "source": [
    "2번과 3번 성질에서 중요한 성질이 도출된다.\n",
    "\\begin{align}\n",
    "A^{-1} A = A A^{-1} = I  \n",
    "\\tag{2.3.50}\n",
    "\\end{align}\n",
    "\n",
    "\\begin{align}\n",
    "\\det(A^{-1} A) = \\det(A)\\det(A^{-1}) = \\det(I) = 1\n",
    "\\end{align}"
   ]
  },
  {
   "cell_type": "markdown",
   "metadata": {},
   "source": [
    "\\begin{align}\n",
    "\\det(A^{-1}) = \\dfrac{1}{\\det(A)}  \n",
    "\\tag{2.3.51}\n",
    "\\end{align}"
   ]
  },
  {
   "cell_type": "markdown",
   "metadata": {},
   "source": [
    "- 분모가 0이 되는 수는 존재할 수 없다."
   ]
  },
  {
   "cell_type": "markdown",
   "metadata": {},
   "source": [
    "- 즉, $\\det(A)$가 0이면 $\\det(A^{-1})$도 존재할 수 없으며, 즉 $A^{-1}$도 존재할 수 없다."
   ]
  },
  {
   "cell_type": "markdown",
   "metadata": {},
   "source": [
    "- **즉, $\\det(A)$가 0이면, A의 역행렬은 존재하지 않는다.**\n",
    "    - 선형회귀모델에서 역행렬의 존재여부는 중요한 이슈다.\n",
    "    - 선형회귀모델은 각 matrix과 scala값의 합과 곱인, 선형조합의 형태로 구성된다.\n",
    "    - matrix는 독립변수가되는 data들의 집합이며, scala는 이 data들을 연산하는 가중치 값이다.\n",
    "    - 어떤 data들을 가지고 모델링을 한다는 것은 어떤 특징행렬과 결과값을 가지고 모델의 구성요소가 되는 가중치, scala값을 구하는 선형방정식문제이다.\n",
    "    - 선형방정식문제를 풀기 위해서는 행렬의 역행렬이 존재해야 하기 때문에, **역행렬의 존재여부는 모델링의 가능여부**와 직결된다."
   ]
  }
 ],
 "metadata": {
  "kernelspec": {
   "display_name": "Python 3",
   "language": "python",
   "name": "python3"
  },
  "language_info": {
   "codemirror_mode": {
    "name": "ipython",
    "version": 3
   },
   "file_extension": ".py",
   "mimetype": "text/x-python",
   "name": "python",
   "nbconvert_exporter": "python",
   "pygments_lexer": "ipython3",
   "version": "3.7.4"
  }
 },
 "nbformat": 4,
 "nbformat_minor": 2
}
