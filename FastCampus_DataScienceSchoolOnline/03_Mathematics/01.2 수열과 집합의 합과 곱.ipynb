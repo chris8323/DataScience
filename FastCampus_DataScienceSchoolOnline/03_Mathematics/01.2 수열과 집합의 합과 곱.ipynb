{
 "cells": [
  {
   "cell_type": "markdown",
   "metadata": {},
   "source": [
    "# 수열과 집합의 합과 곱\n",
    "- https://datascienceschool.net/view-notebook/f4e77fde0de64b0ab1001810881544e1/"
   ]
  },
  {
   "cell_type": "markdown",
   "metadata": {
    "collapsed": true
   },
   "source": [
    "**수열**\n",
    "- n개의 data를 순서대로 나타낸 것.\n",
    "- 순서가 중요함"
   ]
  },
  {
   "cell_type": "markdown",
   "metadata": {
    "collapsed": true
   },
   "source": [
    "**집합**\n",
    "- 순서가 중요하지 않은 data들을 표시할 때 씀\n",
    "    "
   ]
  },
  {
   "cell_type": "markdown",
   "metadata": {},
   "source": [
    "----"
   ]
  },
  {
   "cell_type": "markdown",
   "metadata": {},
   "source": [
    "**수열의 합(Sum)**\n",
    "\n",
    "$$\\sum_{i=1}^N x_i = x_1 + x_2 + \\ldots + x_N \\tag{1.2.12}$$\n"
   ]
  },
  {
   "cell_type": "markdown",
   "metadata": {},
   "source": [
    "**수열의 곱(Product)**\n",
    "\\begin{align}\n",
    "\\prod_{i=1}^N x_i = x_1 \\cdot x_2 \\cdot \\ldots \\cdot x_N \\tag{1.2.13}\n",
    "\\end{align}\n",
    "\n"
   ]
  },
  {
   "cell_type": "markdown",
   "metadata": {},
   "source": [
    "- 눈으로 읽기만 하고 손으로 쓰지 않으면 아무런 의미가 없음. 다음 주요 수식은 손으로 쓰면서 익히는 것이 중요하다."
   ]
  },
  {
   "cell_type": "markdown",
   "metadata": {},
   "source": [
    "    - 서포트 벡터 머신; support Vector Machine\n",
    "\\begin{align}\n",
    "\\sum_{i=1}^3\\sum_{j=1}^3 a_i a_j y_i y_j x_i x_j\n",
    "\\tag{1.2.20}\n",
    "\\end{align}\n"
   ]
  },
  {
   "cell_type": "markdown",
   "metadata": {},
   "source": [
    "    - 특잇값 분해; sigular value decomposition\n",
    "\\begin{align}\n",
    "\\sum_{k=1}^3 \\sum_{i=1}^3 \\sigma^2_i (v_iw_k)^2\n",
    "\\tag{1.2.21}\n",
    "\\end{align}"
   ]
  },
  {
   "cell_type": "markdown",
   "metadata": {},
   "source": [
    "    - 카테고리 분포; category distribution 추정\n",
    "\\begin{align}\n",
    "\\prod_{i=1}^4 \\prod_{k=1}^4 \\theta_k^{x_{i,k}}\n",
    "\\tag{1.2.22}\n",
    "\\end{align}"
   ]
  },
  {
   "cell_type": "markdown",
   "metadata": {},
   "source": [
    "    - 가우시안 혼합 모형; Gaussian mixture model\n",
    "\\begin{align}\n",
    "\\prod_{i=1}^4 \\sum_{k=1}^2 \\pi_k x_i \\mu_k\n",
    "\\tag{1.2.23}\n",
    "\\end{align}"
   ]
  },
  {
   "cell_type": "markdown",
   "metadata": {},
   "source": [
    "**집합의 합과 곱**\n",
    "- 수열이 아닌 집합의 원소들의 합과 곱을 구할 때에는 인덱스 대신 집합 기호를 사용한다.\n",
    "- (index = i, j 등 순서를 나타내는 기호)"
   ]
  }
 ],
 "metadata": {
  "kernelspec": {
   "display_name": "Python 3",
   "language": "python",
   "name": "python3"
  },
  "language_info": {
   "codemirror_mode": {
    "name": "ipython",
    "version": 3
   },
   "file_extension": ".py",
   "mimetype": "text/x-python",
   "name": "python",
   "nbconvert_exporter": "python",
   "pygments_lexer": "ipython3",
   "version": "3.7.4"
  }
 },
 "nbformat": 4,
 "nbformat_minor": 2
}
