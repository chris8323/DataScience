{
 "cells": [
  {
   "cell_type": "markdown",
   "metadata": {},
   "source": [
    "# 그리스 문자; Greek Alphabet\n",
    "- https://datascienceschool.net/view-notebook/e943c350244842a99ab4503fa50b8a6b/\n",
    "- 데이터 분석 시 많이 접하게 될 문자이며 주요 문자들을 읽고 쓰는 법을 숙지할 필요가 있다.\n",
    "- python 내장 library인 LaTex를 통해 표현할 것\n"
   ]
  },
  {
   "cell_type": "markdown",
   "metadata": {},
   "source": [
    "#### inline expression\n",
    "$\\alpha = \\beta$"
   ]
  },
  {
   "cell_type": "markdown",
   "metadata": {},
   "source": [
    "#### display expression\n",
    "$$\\alpha = \\beta$$"
   ]
  },
  {
   "cell_type": "markdown",
   "metadata": {},
   "source": [
    "---\n",
    "[Appendix]\n",
    "### Writing Mathematical Expressions whti LaTex\n",
    "- https://link.springer.com/content/pdf/bbm%3A978-1-4842-3913-1%2F1.pdf"
   ]
  },
  {
   "cell_type": "markdown",
   "metadata": {},
   "source": [
    "####  Lowerecase\n",
    "\n",
    "- $\\alpha$\n",
    "- $\\beta$\n",
    "- $\\gamma$\n",
    "- ..."
   ]
  },
  {
   "cell_type": "markdown",
   "metadata": {},
   "source": [
    "#### Uppercase\n",
    "- $\\Delta$\n",
    "- $\\Sigma$\n",
    "- $\\Pi$\n",
    "- ..."
   ]
  },
  {
   "cell_type": "markdown",
   "metadata": {},
   "source": [
    "#### etc?\n",
    "\n",
    "\n",
    "- $\\rangle$\n",
    "- $\\int$"
   ]
  }
 ],
 "metadata": {
  "kernelspec": {
   "display_name": "Python 3",
   "language": "python",
   "name": "python3"
  },
  "language_info": {
   "codemirror_mode": {
    "name": "ipython",
    "version": 3
   },
   "file_extension": ".py",
   "mimetype": "text/x-python",
   "name": "python",
   "nbconvert_exporter": "python",
   "pygments_lexer": "ipython3",
   "version": "3.6.0"
  }
 },
 "nbformat": 4,
 "nbformat_minor": 2
}
