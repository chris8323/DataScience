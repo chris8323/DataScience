{
 "cells": [
  {
   "cell_type": "markdown",
   "metadata": {},
   "source": [
    "### Data Scientist에게 수학은 도구\n",
    "- 도구라 함은 즉각 필요에 따라 활용할 수 있을 만큼 숙지되어 있어야 한다는 것을 의미한다.\n",
    "- code(python)로 활용할 수 있을 수 있어야 한다.\n",
    "- 자료구조 / numpy-배열 / matplotlib 등등\n"
   ]
  },
  {
   "cell_type": "markdown",
   "metadata": {},
   "source": [
    "---\n",
    "### 자주 사용하는 패키지\n",
    "- 다음 패키지들은 startup package로서 기본적으로 활용할 패키지들이므로 인지하고 있어야 한다."
   ]
  },
  {
   "cell_type": "code",
   "execution_count": null,
   "metadata": {
    "collapsed": true
   },
   "outputs": [],
   "source": [
    "import numpy as np\n",
    "import scipy as sp\n",
    "import pandas as pd\n",
    "import matplotlib.pylab as plt\n",
    "import seaborn as sns\n",
    "import sklearn as sk\n",
    "import statsmodels.api as sm"
   ]
  },
  {
   "cell_type": "markdown",
   "metadata": {},
   "source": [
    "---"
   ]
  },
  {
   "cell_type": "code",
   "execution_count": 1,
   "metadata": {
    "collapsed": false
   },
   "outputs": [
    {
     "data": {
      "text/markdown": [
       "\n",
       "### 강의 내용\n",
       "- 데이터사이언스와 관련하여 주로 다룰 수학개념과 이를 활용하기 위해 학습할 코드/패키지는 다음과 같다.\n",
       "\n",
       "|Mathematics | Code/Package |\n",
       "| --- | --- |\n",
       "|수학기호|LaTex|\n",
       "|선형대수|NumPy|\n",
       "|함수와 미적분|SymPy|\n",
       "|최적화|SciPy|\n",
       "|확률론|PgmPy|\n"
      ],
      "text/plain": [
       "<IPython.core.display.Markdown object>"
      ]
     },
     "execution_count": 1,
     "metadata": {},
     "output_type": "execute_result"
    }
   ],
   "source": [
    "from IPython.display import Markdown\n",
    "Markdown(\"\"\"\n",
    "### 강의 내용\n",
    "- 데이터사이언스와 관련하여 주로 다룰 수학개념과 이를 활용하기 위해 학습할 코드/패키지는 다음과 같다.\n",
    "\n",
    "|Mathematics | Code/Package |\n",
    "| --- | --- |\n",
    "|수학기호|LaTex|\n",
    "|선형대수|NumPy|\n",
    "|함수와 미적분|SymPy|\n",
    "|최적화|SciPy|\n",
    "|확률론|PgmPy|\n",
    "\"\"\")\n",
    "\n"
   ]
  },
  {
   "cell_type": "markdown",
   "metadata": {},
   "source": [
    "\n",
    "##### 선형대수 Leanear Algebra\n",
    "- 데이터사이언스에서 선형대수는 수많은 데이터/연산들을 나타내는 \"기술용어\" 관점에서 바라봐야 한다.\n",
    "- \"기술용어\"라 함은 간결하면서도 명확한 커뮤니케이션을 위한 것.\n",
    "\n",
    "\n",
    "##### 함수&미적분 Function&Calculus\n",
    "- 데이터사이언스의 많은 문제들은 Input과 Output간의 관계를 알아내는 것(예상하는 것)이다.\n",
    "- 이러한 Input과 Output간의 관계를 수학적으로는 \"함수\"로 표현하게 된다.\n",
    "- 이러한 함수의 특징을 기술/표현하기 위해서는 \"미적분\" 개념을 필요로 한다.\n",
    "\n",
    "\n",
    "##### 최적화 Optimization\n",
    "- Input과 Output간의 관계를 정의하는 여러 개의 \"함수\"들에서 각각의 \"특징\"들을 비교 분석하여 이들 중 최적의 함수를 찾아내는 과정\n",
    "- 이 과정에서 \"미분\"의 개념이 필수로 필요한다.\n",
    "- 즉 데이터 사이언스에서 마주하는 많은 문제들은 Input/Output 간의 관계를 나타낼 수 있는 여러개의 Modeling 후보들을 찾고, 각 Modeling들을 비교 분석한 뒤, 이 중 최적의 Modeling을 정의하는 것이라고 볼 수 있을 것이다.\n",
    "\n",
    "##### 확률론 Probability Theory\n",
    "- 데이터분석은 데이터로부터 어떠한 지식/명제를 끌어내는 것이다.\n",
    "- 이러한 지식/명제를 나타내는 것을 논리학(Logic)이라고 정의할 수 있다.\n",
    "    - 고대 논리학은 True이거나 False인지를 밝혀내는 것이었다면,\n",
    "    - 근대 논리학은 각각의 가능성을 확률로 나타낸다."
   ]
  },
  {
   "cell_type": "markdown",
   "metadata": {},
   "source": [
    "---"
   ]
  }
 ],
 "metadata": {
  "kernelspec": {
   "display_name": "Python 3",
   "language": "python",
   "name": "python3"
  },
  "language_info": {
   "codemirror_mode": {
    "name": "ipython",
    "version": 3
   },
   "file_extension": ".py",
   "mimetype": "text/x-python",
   "name": "python",
   "nbconvert_exporter": "python",
   "pygments_lexer": "ipython3",
   "version": "3.6.0"
  }
 },
 "nbformat": 4,
 "nbformat_minor": 2
}
