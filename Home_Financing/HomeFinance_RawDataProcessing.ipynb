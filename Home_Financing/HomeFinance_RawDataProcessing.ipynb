{
 "cells": [
  {
   "cell_type": "code",
   "execution_count": null,
   "metadata": {
    "collapsed": false
   },
   "outputs": [],
   "source": [
    "import pandas as pd\n",
    "import os\n",
    "import numpy as np"
   ]
  },
  {
   "cell_type": "markdown",
   "metadata": {},
   "source": [
    "---\n",
    "Raw Data Download\n",
    "- 우리은행 Debit\n",
    "    - 과거거래내역조회 > 엑셀저장 > 텍스트 저장\n",
    "- 우리카드 Credit\n",
    "    - "
   ]
  },
  {
   "cell_type": "markdown",
   "metadata": {},
   "source": [
    "---\n",
    "Raw Data import\n",
    "- 우리은행 Debit\n",
    "    - 생활비계좌\n",
    "    - 급여계좌\n",
    "    - 용돈계좌\n",
    "- 우리카드 Credit\n",
    "    - 신용카드"
   ]
  },
  {
   "cell_type": "code",
   "execution_count": null,
   "metadata": {
    "collapsed": false,
    "scrolled": true
   },
   "outputs": [],
   "source": [
    "# file download 경로 정의\n",
    "fPath = input('raw_data 파일들 경로입력: ')"
   ]
  },
  {
   "cell_type": "markdown",
   "metadata": {},
   "source": [
    "---\n",
    "Debit Data"
   ]
  },
  {
   "cell_type": "code",
   "execution_count": null,
   "metadata": {
    "collapsed": false,
    "scrolled": true
   },
   "outputs": [],
   "source": [
    "fPath_debit = '{}\\\\debit'.format(fPath)\n",
    "fList_debit = os.listdir('{}'.format(fPath_debit))\n",
    "fList_debit"
   ]
  },
  {
   "cell_type": "code",
   "execution_count": null,
   "metadata": {
    "collapsed": false,
    "scrolled": false
   },
   "outputs": [],
   "source": [
    "print('filename | 금액카테고리 | table_size')\n",
    "df_debit = pd.DataFrame()\n",
    "\n",
    "for i in range(0, len(fList_debit)):\n",
    "#for i in {2}:\n",
    "\n",
    "    ##### filne name / category명 설정\n",
    "    # (중요) 순서쌍이 맞아야한다!!\n",
    "    \n",
    "    fName_debit = ['급여.txt', #0\n",
    "                   '용돈.txt', #1\n",
    "                   '생활비.txt', #2\n",
    "                   '마이너스.txt' #3            \n",
    "                  ][i]\n",
    "\n",
    "    debit_group = ['급여통장(우리/688431)', #0\n",
    "                   '용돈통장(우리/399402)', #1\n",
    "                   '생활비통장(우리/875309)', #2\n",
    "                   '마이너스통장(우리/508867)'#3\n",
    "                  ][i]\n",
    "\n",
    "\n",
    "\n",
    "    #file imoprt\n",
    "    temp = pd.read_csv('{}\\\\{}'.format(fPath_debit, fName_debit), engine='python', sep='|')\n",
    "\n",
    "    temp2 = temp.drop(['No.','적요','거래후 잔액', '취급점', '메모'], axis=1)\n",
    "    temp2.rename_axis({'기재내용':'메모',\n",
    "                          '거래일시':'날짜'}, axis=1, inplace=True)\n",
    "\n",
    "    # 날짜 data 처리\n",
    "    temp2['날짜'] = temp2['날짜'].apply(lambda x:pd.to_datetime(x))\n",
    "\n",
    "    # 금액 data 처리\n",
    "    temp2['맡기신금액'] = temp2['맡기신금액'].apply(lambda x:int(str(x).replace(',','')))\n",
    "    temp2['찾으신금액'] = temp2['찾으신금액'].apply(lambda x:int(str(x).replace(',','')))\n",
    "\n",
    "    temp2['금액'] = temp2['맡기신금액'] + temp2['찾으신금액']\n",
    "\n",
    "    # 대변/차변에 카테고리명 추가\n",
    "    temp2.loc[(temp2['맡기신금액']!=0), '왼쪽'] = debit_group\n",
    "    temp2.loc[(temp2['찾으신금액']!=0), '오른쪽'] = debit_group\n",
    "\n",
    "    # columns 정리\n",
    "    temp2.drop(['찾으신금액', '맡기신금액'], axis=1, inplace=True)\n",
    "    temp2['아이템(괄호)'] = np.nan\n",
    "\n",
    "\n",
    "    df_debit = df_debit.append(temp2, ignore_index=True)\n",
    "    print(fName_debit, ' | ', debit_group, ' | ', temp2.shape)"
   ]
  },
  {
   "cell_type": "markdown",
   "metadata": {},
   "source": [
    "---\n",
    "Credit Data"
   ]
  },
  {
   "cell_type": "code",
   "execution_count": null,
   "metadata": {
    "collapsed": false
   },
   "outputs": [],
   "source": [
    "fPath_credit = '{}\\\\credit'.format(fPath)\n",
    "fList_credit = os.listdir('{}'.format(fPath_credit))\n",
    "fList_credit"
   ]
  },
  {
   "cell_type": "code",
   "execution_count": null,
   "metadata": {
    "collapsed": false
   },
   "outputs": [],
   "source": [
    "# file import\n",
    "df_credit = pd.read_excel('{}\\\\{}'.format(fPath_credit, fList_credit[0]), header=1)"
   ]
  },
  {
   "cell_type": "code",
   "execution_count": null,
   "metadata": {
    "collapsed": false,
    "scrolled": true
   },
   "outputs": [],
   "source": [
    "df_credit = df_credit.loc[(df_credit['일자'].notnull()) & (df_credit['일자']!='일자')][['일자',\n",
    "                                                                    #'승인번호',\n",
    "                                                                    'Unnamed: 6',\n",
    "                                                                    '이용가맹점(은행)명',\n",
    "                                                                    '매출구분',\n",
    "                                                                    '할부\\n개월',\n",
    "                                                                    '승인금액',\n",
    "                                                                    '취소금액',                                                 \n",
    "                                                                    ]].rename_axis({'일자':'날짜',\n",
    "                                                                                    '이용가맹점(은행)명':'메모',\n",
    "                                                                                    'Unnamed: 6':'이용카드',\n",
    "                                                                                   '할부\\n개월':'할부개월'}, axis=1)\n",
    "\n",
    "# 날짜 data 처리\n",
    "df_credit['날짜'] = df_credit['날짜'].apply(lambda x:pd.to_datetime('2019.'+x))\n",
    "\n",
    "# 금액 data 처리\n",
    "df_credit['승인금액'] = df_credit['승인금액'].apply(lambda x:int(str(x).replace(',','')))\n",
    "df_credit['취소금액'] = df_credit['취소금액'].apply(lambda x:float(str(x).replace(',','')))\n",
    "\n",
    "df_credit['금액'] = df_credit['승인금액'] - df_credit['취소금액']\n",
    "\n",
    "# 할부내용 표기\n",
    "df_credit.loc[(df_credit['매출구분']=='할부'),'메모'] = '[할부] ' + df_credit.loc[(df_credit['매출구분']=='할부'),'메모'] + ' // '+ str(df_credit.loc[(df_credit['매출구분']=='할부'),'할부개월'])\n",
    "\n",
    "# columns 정리\n",
    "df_credit.drop(['이용카드', '매출구분', '할부개월', '승인금액', '취소금액'], axis=1, inplace=True)\n",
    "df_credit['왼쪽'] = np.nan\n",
    "df_credit['오른쪽'] = '신용카드(508867)'\n",
    "df_credit['아이템(괄호)'] = np.nan\n",
    "\n",
    "print('filename | 금액카테고리 | table_size')\n",
    "print(fList_credit[0], ' | ', '신용카드(508867) | ', df_credit.shape)"
   ]
  },
  {
   "cell_type": "markdown",
   "metadata": {},
   "source": [
    "---\n",
    "Merge & 처리"
   ]
  },
  {
   "cell_type": "code",
   "execution_count": null,
   "metadata": {
    "collapsed": true
   },
   "outputs": [],
   "source": [
    "df = df_debit.append(df_credit, ignore_index=False).sort_values('날짜')[['날짜', '아이템(괄호)', '금액', '왼쪽', '오른쪽', '메모']]"
   ]
  },
  {
   "cell_type": "code",
   "execution_count": null,
   "metadata": {
    "collapsed": false
   },
   "outputs": [],
   "source": [
    "df[df['금액']==0]"
   ]
  },
  {
   "cell_type": "code",
   "execution_count": null,
   "metadata": {
    "collapsed": true
   },
   "outputs": [],
   "source": [
    "df = df[df['금액']!=0]"
   ]
  },
  {
   "cell_type": "code",
   "execution_count": null,
   "metadata": {
    "collapsed": false
   },
   "outputs": [],
   "source": [
    "# 수입 처리\n",
    "df.loc[(df['오른쪽'].isnull()) & (df['메모'].str.contains('급여')), ['오른쪽','아이템(괄호)']] = ['월급','급여']\n",
    "df.loc[(df['오른쪽'].isnull()) & (df['메모'].str.contains('나은')), ['오른쪽','아이템(괄호)']] = ['from나은','나은']\n",
    "df.loc[(df['오른쪽'].isnull()) & (df['메모'].str.contains('예금결산이자')), ['오른쪽','아이템(괄호)']] = ['이자수익','예금결산이자']"
   ]
  },
  {
   "cell_type": "code",
   "execution_count": null,
   "metadata": {
    "collapsed": false,
    "scrolled": true
   },
   "outputs": [],
   "source": [
    "df.loc[(df['오른쪽'].isnull())] "
   ]
  },
  {
   "cell_type": "code",
   "execution_count": null,
   "metadata": {
    "collapsed": false
   },
   "outputs": [],
   "source": [
    "# 비용 처리\n",
    "df.loc[(df['왼쪽'].isnull()) & (df['메모'].str.contains('카페')), ['왼쪽','아이템(괄호)']] = ['식비','커피']\n",
    "df.loc[(df['왼쪽'].isnull()) & (df['메모'].str.contains('까페')), ['왼쪽','아이템(괄호)']] = ['식비','커피']\n",
    "df.loc[(df['왼쪽'].isnull()) & (df['메모'].str.contains('커피')), ['왼쪽','아이템(괄호)']] = ['식비','커피']\n",
    "df.loc[(df['왼쪽'].isnull()) & (df['메모'].str.contains('스타벅스')), ['왼쪽','아이템(괄호)']] = ['식비','커피']\n",
    "df.loc[(df['왼쪽'].isnull()) & (df['메모'].str.contains('이디야')), ['왼쪽','아이템(괄호)']] = ['식비','커피']\n",
    "\n",
    "df.loc[(df['왼쪽'].isnull()) & (df['메모'].str.contains('베이커리')), ['왼쪽','아이템(괄호)']] = ['식비','간식(빵)']\n",
    "\n",
    "df.loc[(df['왼쪽'].isnull()) & (df['메모'].str.contains('우아한형제들')), ['왼쪽','아이템(괄호)']] = ['식비','배달의민족']\n",
    "\n",
    "df.loc[(df['왼쪽'].isnull()) & (df['메모'].str.contains('신동아마트')), ['왼쪽','아이템(괄호)']] = ['식비','마트']\n",
    "\n",
    "\n",
    "\n",
    "df.loc[(df['왼쪽'].isnull()) & (df['메모'].str.contains('ＰＣ')), ['왼쪽','아이템(괄호)']] = ['여가','PC방']\n",
    "\n",
    "\n",
    "df.loc[(df['왼쪽'].isnull()) & (df['메모'].str.contains('택시')), ['왼쪽','아이템(괄호)']] = ['교통비','택시']\n",
    "df.loc[(df['왼쪽'].isnull()) & (df['메모'].str.contains('고속버스')), ['왼쪽','아이템(괄호)']] = ['교통비','고속버스']\n",
    "\n",
    "\n",
    "df.loc[(df['왼쪽'].isnull()) & (df['메모'].str.contains('약국')), ['왼쪽','아이템(괄호)']] = ['의료,건강','약국']\n",
    "df.loc[(df['왼쪽'].isnull()) & (df['메모'].str.contains('병원')), ['왼쪽','아이템(괄호)']] = ['의료,건강','병원']\n",
    "df.loc[(df['왼쪽'].isnull()) & (df['메모'].str.contains('한의원')), ['왼쪽','아이템(괄호)']] = ['의료,건강','한의원']\n",
    "\n",
    "\n",
    "df.loc[(df['왼쪽'].isnull()) & (df['메모'].str.contains('ＫＴ유선상품')), ['왼쪽','아이템(괄호)']] = ['통신비','핸드폰']\n",
    "df.loc[(df['왼쪽'].isnull()) & (df['메모'].str.contains('ＫＴ통신요금')), ['왼쪽','아이템(괄호)']] = ['통신비','KT인터넷+TV']\n",
    "\n",
    "\n",
    "df.loc[(df['왼쪽'].isnull()) & (df['메모'].str.contains('우리카드결제')), ['왼쪽','아이템(괄호)']] = ['신용카드(508867)','신용카드']\n",
    "\n",
    "df.loc[(df['왼쪽'].isnull()) & (df['메모'].str.contains('카카오페이')), ['왼쪽','아이템(괄호)']] = ['카카오페이','이체']\n",
    "df.loc[(df['왼쪽'].isnull()) & (df['메모'].str.contains('벗얼라이브')), ['왼쪽','아이템(괄호)']] = ['식비','커피']\n",
    "df.loc[(df['왼쪽'].isnull()) & (df['메모'].str.contains('ＧＳ２５')), ['왼쪽','아이템(괄호)']] = ['생활용품','편의점']\n",
    "df.loc[(df['왼쪽'].isnull()) & (df['메모'].str.contains('지에스리테일')), ['왼쪽','아이템(괄호)']] = ['식비','마트']"
   ]
  },
  {
   "cell_type": "code",
   "execution_count": null,
   "metadata": {
    "collapsed": false,
    "scrolled": true
   },
   "outputs": [],
   "source": [
    "df.loc[(df['왼쪽'].isnull())]"
   ]
  },
  {
   "cell_type": "code",
   "execution_count": null,
   "metadata": {
    "collapsed": false
   },
   "outputs": [],
   "source": [
    "df.to_excel('{}\\\\merge.xls'.format(fPath), index=False)"
   ]
  },
  {
   "cell_type": "code",
   "execution_count": null,
   "metadata": {
    "collapsed": false
   },
   "outputs": [],
   "source": [
    "print('merge 완료')"
   ]
  },
  {
   "cell_type": "code",
   "execution_count": null,
   "metadata": {
    "collapsed": true
   },
   "outputs": [],
   "source": []
  }
 ],
 "metadata": {
  "kernelspec": {
   "display_name": "Python 3",
   "language": "python",
   "name": "python3"
  },
  "language_info": {
   "codemirror_mode": {
    "name": "ipython",
    "version": 3
   },
   "file_extension": ".py",
   "mimetype": "text/x-python",
   "name": "python",
   "nbconvert_exporter": "python",
   "pygments_lexer": "ipython3",
   "version": "3.6.0"
  }
 },
 "nbformat": 4,
 "nbformat_minor": 2
}
